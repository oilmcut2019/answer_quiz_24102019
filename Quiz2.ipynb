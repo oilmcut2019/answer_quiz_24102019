{
 "cells": [
  {
   "cell_type": "markdown",
   "metadata": {},
   "source": [
    "Question2\n",
    "\n",
    "\n",
    "英文:The keyboard enters a set of strings, and then enters two sets of integers to determine the reverse segment of the string to be printed.\n",
    "<br>\n",
    "中文:鍵盤輸入一組字串，再輸入兩組整數，決定要印出字串的反轉片段。\n",
    "<br>\n",
    "keyword:x[::]、x[:]、x[]\n",
    "\n",
    "Input    |Output  |\n",
    "---------|--------|\n",
    "computer |etupmo  |\n",
    "1        |\n",
    "6        |"
   ]
  },
  {
   "cell_type": "code",
   "execution_count": 1,
   "metadata": {},
   "outputs": [
    {
     "name": "stdout",
     "output_type": "stream",
     "text": [
      "computer\n",
      "1\n",
      "6\n",
      "etupmo\n"
     ]
    }
   ],
   "source": [
    "x=str(input())\n",
    "y=int(input())\n",
    "z=int(input())\n",
    "print(x[z:y:-1]+x[y])"
   ]
  }
 ],
 "metadata": {
  "kernelspec": {
   "display_name": "Python 3",
   "language": "python",
   "name": "python3"
  },
  "language_info": {
   "codemirror_mode": {
    "name": "ipython",
    "version": 3
   },
   "file_extension": ".py",
   "mimetype": "text/x-python",
   "name": "python",
   "nbconvert_exporter": "python",
   "pygments_lexer": "ipython3",
   "version": "3.6.7"
  },
  "varInspector": {
   "cols": {
    "lenName": 16,
    "lenType": 16,
    "lenVar": 40
   },
   "kernels_config": {
    "python": {
     "delete_cmd_postfix": "",
     "delete_cmd_prefix": "del ",
     "library": "var_list.py",
     "varRefreshCmd": "print(var_dic_list())"
    },
    "r": {
     "delete_cmd_postfix": ") ",
     "delete_cmd_prefix": "rm(",
     "library": "var_list.r",
     "varRefreshCmd": "cat(var_dic_list()) "
    }
   },
   "types_to_exclude": [
    "module",
    "function",
    "builtin_function_or_method",
    "instance",
    "_Feature"
   ],
   "window_display": false
  }
 },
 "nbformat": 4,
 "nbformat_minor": 2
}
